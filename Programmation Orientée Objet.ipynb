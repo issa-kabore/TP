{
 "cells": [
  {
   "cell_type": "markdown",
   "id": "217e6235",
   "metadata": {},
   "source": [
    "# Programmation Orientée Objet avec Python\n",
    "\n",
    "La programmation orientée objet est un **paradigme**, c'est a dire une facon de procéder pour écrire des programmes clairs et simples. Le principe est de modéliser les éléments de notre programmes (comme les tableaux et les listes) comme étant des des **objets** caractérisés par des **attributs** et capables d'effectuer des **actions**. Ces objets sont construits a partir de **classes** qui contiennent leur plan de fabrication.\n",
    "\n",
    "Dans le langage Python, presque tout est construit pour etre un objet : les listes, les dictionnaires, les tableaux numpy, etc.\n",
    "Par exemple quand on écrit : ***list.append()***, on utilise en fait la méthode append() sur un objet liste.\n",
    "\n",
    "La documentation Python, Numpy, Pandas, Matplotlib, Sklearn, est donc en vaste majorité constituée de classes qu'il est important de savoir déchiffrer pour pouvoir apprendre soi-meme de nouvelles choses grace aux documentations.\n",
    "\n",
    "Voici donc comment créer simplement et efficacement des classes :"
   ]
  },
  {
   "cell_type": "markdown",
   "id": "334ecca7",
   "metadata": {},
   "source": [
    "# Vehicule - voiture"
   ]
  },
  {
   "cell_type": "code",
   "execution_count": 36,
   "id": "aab5f347",
   "metadata": {},
   "outputs": [],
   "source": [
    "class vehicule:\n",
    "    def __init__(self,couleur='', vitesse=0, roues=4,\n",
    "                 marque=\"\"):\n",
    "        self.couleur = couleur\n",
    "        self.vitesse = vitesse\n",
    "        self.roues = roues\n",
    "        self.marque = marque\n",
    "         \n",
    "    # voici une méthode \"accelerer\" qui modifie un attribut de l'objet\n",
    "    def accelerer(self, vitesse):\n",
    "        self.vitesse += vitesse\n",
    "\n",
    "    # voici une autre méthode\n",
    "    def stop(self):\n",
    "        self.vitesse = 0\n",
    "\n",
    "    # voici une derniere méthode, tres souvent utilisée\n",
    "    def afficher(self):\n",
    "        print(f'couleur: {self.couleur}\\nroues: {self.roues}\\nvitesse: {self.vitesse} km/h\\nmarque: {self.marque}')"
   ]
  },
  {
   "cell_type": "code",
   "execution_count": 38,
   "id": "b714c2c7",
   "metadata": {},
   "outputs": [],
   "source": [
    "# création d'un objet de la classe voiture\n",
    "voiture_1 = vehicule(couleur='rouge', marque='Mercedes', vitesse=50)"
   ]
  },
  {
   "cell_type": "code",
   "execution_count": 39,
   "id": "b0ee10d3",
   "metadata": {},
   "outputs": [
    {
     "name": "stdout",
     "output_type": "stream",
     "text": [
      "couleur: rouge\n",
      "roues: 4\n",
      "vitesse: 50 km/h\n",
      "marque: Mercedes\n"
     ]
    }
   ],
   "source": [
    "voiture_1.afficher()"
   ]
  },
  {
   "cell_type": "code",
   "execution_count": 40,
   "id": "0fc6a979",
   "metadata": {},
   "outputs": [
    {
     "name": "stdout",
     "output_type": "stream",
     "text": [
      "couleur: rouge\n",
      "roues: 4\n",
      "vitesse: 70 km/h\n",
      "marque: Mercedes\n"
     ]
    }
   ],
   "source": [
    "voiture_1.accelerer(20)\n",
    "voiture_1.afficher()"
   ]
  },
  {
   "cell_type": "code",
   "execution_count": null,
   "id": "020f0c2c",
   "metadata": {},
   "outputs": [],
   "source": []
  },
  {
   "cell_type": "code",
   "execution_count": null,
   "id": "d5d17cfd",
   "metadata": {},
   "outputs": [],
   "source": []
  },
  {
   "cell_type": "code",
   "execution_count": 47,
   "id": "3f6f5768",
   "metadata": {},
   "outputs": [],
   "source": [
    "# Sous-classe \n",
    "class voiture_electrique(vehicule):\n",
    "    \"\"\"\n",
    "    La classe voiture_electrique hérite des méthodes et des attributs de la classe véhicule\n",
    "    \"\"\"\n",
    "\n",
    "    def __init__(self, couleur='noire', vitesse=0, roues=4, marque=\"\", autonomie=100):\n",
    "        super().__init__(couleur, vitesse, roues,marque) # super() permet d'utiliser la fonction de la classe \"parent\"\n",
    "        self.autonomie = autonomie\n",
    "\n",
    "    # Ré-écriture de certaines méthodes\n",
    "    def accelerer(self, vitesse):\n",
    "        super().accelerer(vitesse)\n",
    "        self.autonomie -= 0.1 *self.vitesse\n",
    "\n",
    "    def afficher(self):\n",
    "        super().afficher()\n",
    "        print(f'autonomie: {self.autonomie}')"
   ]
  },
  {
   "cell_type": "code",
   "execution_count": 48,
   "id": "34e22f7f",
   "metadata": {},
   "outputs": [
    {
     "name": "stdout",
     "output_type": "stream",
     "text": [
      "couleur: noire\n",
      "roues: 4\n",
      "vitesse: 0 km/h\n",
      "marque: Ford\n",
      "autonomie: 100\n"
     ]
    }
   ],
   "source": [
    "voiture_2 = voiture_electrique(marque='Ford')\n",
    "voiture_2.afficher()"
   ]
  },
  {
   "cell_type": "code",
   "execution_count": 49,
   "id": "5cb31556",
   "metadata": {},
   "outputs": [
    {
     "name": "stdout",
     "output_type": "stream",
     "text": [
      "couleur: noire\n",
      "roues: 4\n",
      "vitesse: 10 km/h\n",
      "marque: Ford\n",
      "autonomie: 99.0\n"
     ]
    }
   ],
   "source": [
    "voiture_2.accelerer(10)\n",
    "voiture_2.afficher()"
   ]
  },
  {
   "cell_type": "markdown",
   "id": "c42ca190",
   "metadata": {},
   "source": [
    "# "
   ]
  },
  {
   "cell_type": "markdown",
   "id": "eced756b",
   "metadata": {},
   "source": [
    "# Compte bancaire"
   ]
  },
  {
   "cell_type": "code",
   "execution_count": 10,
   "id": "b2acc974",
   "metadata": {},
   "outputs": [
    {
     "name": "stdout",
     "output_type": "stream",
     "text": [
      "Son nom :  Issa\n",
      "Son solde : 1000\n",
      "\n",
      "Saisissez le montant souhaité :-500\n",
      "Le nouveau solde est  500.0\n",
      "Saisissez le montant souhaité (0 pour quitter):800\n",
      "Le nouveau solde est  1300.0\n",
      "Saisissez le montant souhaité (0 pour quitter):2500\n",
      "Le nouveau solde est  3800.0\n",
      "Saisissez le montant souhaité (0 pour quitter):0\n"
     ]
    }
   ],
   "source": [
    "class Compte:\n",
    "    def __init__(self,nom=\"\",solde=0):\n",
    "        self.__nom = nom\n",
    "        self.__solde = solde\n",
    "        \n",
    "    def saisie(self):\n",
    "        self.__nom = input(\"Nom :\")\n",
    "        self.__solde = int(input(\"Solde :\"))\n",
    "    \n",
    "    def affichage(self):\n",
    "        print(\"Son nom : \", self.__nom)\n",
    "        print(\"Son solde :\", self.__solde)\n",
    "        print(\"\")\n",
    "    \n",
    "    def debiter(self,value):\n",
    "        if (self.__solde > -100):\n",
    "            self.__solde = self.__solde - value\n",
    "            return 1\n",
    "        else:\n",
    "            print(\"C'est la hess\")\n",
    "            return 0\n",
    "    \n",
    "    def crediter(self,value):\n",
    "        self.__solde = self.__solde + value\n",
    "        \n",
    "    def getSolde(self):\n",
    "        return self.__solde\n",
    "    \n",
    "    def setSolde(self,thune):\n",
    "        self.__solde = thune\n",
    "    \n",
    "    def virement(self,montant,compte):\n",
    "        if (self.debiter(montant)==1):\n",
    "            compte.crediter(montant)\n",
    "        else:\n",
    "            print(\"Virement impossible\")\n",
    "       \n",
    "    \n",
    "def gestionCompte(self):\n",
    "    montant = float(input(\"Saisissez le montant souhaité :\"))\n",
    "    while montant != 0:\n",
    "        if montant > 0:\n",
    "            self.crediter(montant)\n",
    "        else:\n",
    "            self.debiter(-montant)\n",
    "        print(\"Le nouveau solde est \", self.getSolde())\n",
    "        montant = float(input(\"Saisissez le montant souhaité (0 pour quitter):\"))\n",
    "\n",
    "            \n",
    "        \n",
    "        \n",
    "            \n",
    "c1 = Compte(nom=\"Issa\")\n",
    "c1.crediter(1000)\n",
    "c1.affichage()\n",
    "gestionCompte(c1)    \n",
    "\n"
   ]
  },
  {
   "cell_type": "code",
   "execution_count": 11,
   "id": "04285def",
   "metadata": {},
   "outputs": [
    {
     "name": "stdout",
     "output_type": "stream",
     "text": [
      "Son nom :  Issa\n",
      "Son solde : 3800.0\n",
      "\n"
     ]
    }
   ],
   "source": [
    "c1.affichage()"
   ]
  },
  {
   "cell_type": "code",
   "execution_count": 9,
   "id": "94bf312a",
   "metadata": {},
   "outputs": [
    {
     "name": "stdout",
     "output_type": "stream",
     "text": [
      "Son nom :  Issa\n",
      "Son solde : 500.0\n",
      "\n",
      "Son nom :  Mathias\n",
      "Son solde : 5500\n",
      "\n"
     ]
    }
   ],
   "source": [
    "c2 = Compte(\"Mathias\",5000)\n",
    "if (c1.getSolde()>0):\n",
    "    c1.virement(500,c2)\n",
    "else:\n",
    "    print(\"Virement impossible\")\n",
    "c1.affichage()\n",
    "c2.affichage()"
   ]
  },
  {
   "cell_type": "markdown",
   "id": "4c46abf8",
   "metadata": {},
   "source": [
    "# "
   ]
  },
  {
   "cell_type": "markdown",
   "id": "57da584b",
   "metadata": {},
   "source": [
    "# "
   ]
  },
  {
   "cell_type": "markdown",
   "id": "919ebc58",
   "metadata": {},
   "source": [
    "# Point - segment "
   ]
  },
  {
   "cell_type": "code",
   "execution_count": 50,
   "id": "ebc74d03",
   "metadata": {},
   "outputs": [],
   "source": [
    "from math import *\n",
    "\n",
    "class Point:\n",
    "    def __init__(self,abs=0,ord=0):\n",
    "        self.__x = abs\n",
    "        self.__y = ord\n",
    "    \n",
    "    def saisie(self):\n",
    "        self.__x= float(input(\"Abscisse :\"))\n",
    "        self.__y= float(input(\"Ordonnee :\"))\n",
    "    \n",
    "    def affichage(self):\n",
    "        print(\"------\")\n",
    "        print(\"X :\", self.__x)\n",
    "        print(\"Y :\", self.__y)\n",
    "        print(\"------\")\n",
    "    \n",
    "    def translater(self,a,b):\n",
    "        self.__x = a + self.__x \n",
    "        self.__y = b + self.__y\n",
    "        \n",
    "    def getX(self):\n",
    "        return self.__x\n",
    "    \n",
    "    def getY(self):\n",
    "        return self.__y\n",
    "    \n",
    "    def setX(self,x):\n",
    "        self.__x = x\n",
    "    \n",
    "    def setY(self,y):\n",
    "        self.__y = y\n",
    "        "
   ]
  },
  {
   "cell_type": "code",
   "execution_count": 51,
   "id": "d88faa3c",
   "metadata": {},
   "outputs": [
    {
     "name": "stdout",
     "output_type": "stream",
     "text": [
      "** Affichage du segment :\n",
      "1er point\n",
      "------\n",
      "X : 0\n",
      "Y : 0\n",
      "------\n",
      "2eme point\n",
      "------\n",
      "X : 1\n",
      "Y : 1\n",
      "------\n",
      "\n",
      "Translater de 1\n",
      "** Affichage du segment :\n",
      "1er point\n",
      "------\n",
      "X : 1\n",
      "Y : 1\n",
      "------\n",
      "2eme point\n",
      "------\n",
      "X : 2\n",
      "Y : 2\n",
      "------\n",
      "\n",
      "Longueur du segment : 1.4142135623730951\n"
     ]
    }
   ],
   "source": [
    "#classe fille Segment\n",
    "class Segment(Point):\n",
    "    def __init__(self, p1 =Point(0,0), p2 =Point(1,1)):\n",
    "        self.__Pt1 = p1\n",
    "        self.__Pt2 = p2\n",
    "    \n",
    "    \n",
    "    def saisie(self):\n",
    "        self.__Pt1.saisie()\n",
    "        self.__Pt2.saisie()\n",
    "        \n",
    "    def affichage(self):\n",
    "        print(\"** Affichage du segment :\")\n",
    "        print(\"1er point\")\n",
    "        self.__Pt1.affichage()\n",
    "        print(\"2eme point\")\n",
    "        self.__Pt2.affichage()\n",
    "        print(\"\")\n",
    "        \n",
    "    def translater(self,a,b):\n",
    "        self.__Pt1.translater(a,b)\n",
    "        self.__Pt2.translater(a,b)\n",
    "        \n",
    "    def longueur(self):\n",
    "        return sqrt(pow(self.__Pt1.getX()-self.__Pt2.getX(),2)+ pow(self.__Pt1.getY()-self.__Pt2.getY(),2) )   \n",
    "    \n",
    "    \n",
    "AB = Segment()\n",
    "#AB.saisie()\n",
    "\n",
    "AB.affichage()\n",
    "print(\"Translater de 1\")\n",
    "AB.translater(1,1)\n",
    "AB.affichage()\n",
    "print(\"Longueur du segment :\",AB.longueur())"
   ]
  },
  {
   "cell_type": "code",
   "execution_count": 52,
   "id": "c5c9f8ac",
   "metadata": {},
   "outputs": [
    {
     "name": "stdout",
     "output_type": "stream",
     "text": [
      "------\n",
      "X : 1\n",
      "Y : 2\n",
      "------\n",
      "------\n",
      "X : 5\n",
      "Y : 8\n",
      "------\n",
      "------\n",
      "X : 9\n",
      "Y : 4\n",
      "------\n",
      "Coordonnes du barycentre\n",
      "------\n",
      "X : 5.0\n",
      "Y : 4.666666666666667\n",
      "------\n"
     ]
    }
   ],
   "source": [
    "# creer les somments du triangle ABC\n",
    "A = Point(1,2)\n",
    "B = Point(5,8)\n",
    "C = Point(9,4)\n",
    "\n",
    "AB = Segment(A,B)\n",
    "\n",
    "BC = Segment(B,C)\n",
    "\n",
    "AC = Segment(A,C)\n",
    "\n",
    "A.affichage()\n",
    "B.affichage()\n",
    "C.affichage()\n"
   ]
  },
  {
   "cell_type": "code",
   "execution_count": 69,
   "id": "5dfc8e87",
   "metadata": {},
   "outputs": [
    {
     "data": {
      "image/png": "[encoded data removed]",
      "text/plain": [
       "<Figure size 432x288 with 1 Axes>"
      ]
     },
     "metadata": {
      "needs_background": "light"
     },
     "output_type": "display_data"
    }
   ],
   "source": [
    "import matplotlib.pyplot as plt\n",
    "x = [A.getX(), B.getX(),C.getX() ,A.getX() ]\n",
    "y = [A.getY(),B.getY(), C.getY(), A.getY() ]\n",
    "plt.plot(x, y ,  marker = 'o')\n",
    "plt.show()\n"
   ]
  },
  {
   "cell_type": "code",
   "execution_count": 73,
   "id": "8a1d077c",
   "metadata": {},
   "outputs": [
    {
     "name": "stdout",
     "output_type": "stream",
     "text": [
      "Coordonnes du barycentre\n",
      "------\n",
      "X : 5.0\n",
      "Y : 4.666666666666667\n",
      "------\n"
     ]
    }
   ],
   "source": [
    "# barycentre\n",
    "G = Point()\n",
    "xg = (A.getX() + B.getX() + C.getX())/3\n",
    "yg = (A.getY() + B.getY() + C.getY())/3\n",
    "G.setX(xg)\n",
    "G.setY(yg)\n",
    "print(\"Coordonnes du barycentre\")\n",
    "G.affichage()"
   ]
  },
  {
   "cell_type": "code",
   "execution_count": 74,
   "id": "f198a88c",
   "metadata": {},
   "outputs": [
    {
     "data": {
      "image/png": "[encoded data removed]",
      "text/plain": [
       "<Figure size 432x288 with 1 Axes>"
      ]
     },
     "metadata": {
      "needs_background": "light"
     },
     "output_type": "display_data"
    }
   ],
   "source": [
    "plt.plot(x, y ,  marker = 'o')\n",
    "plt.plot(xg,yg, marker=\"o\", color=\"red\")\n",
    "plt.show()"
   ]
  }
 ],
 "metadata": {
  "kernelspec": {
   "display_name": "Python 3",
   "language": "python",
   "name": "python3"
  },
  "language_info": {
   "codemirror_mode": {
    "name": "ipython",
    "version": 3
   },
   "file_extension": ".py",
   "mimetype": "text/x-python",
   "name": "python",
   "nbconvert_exporter": "python",
   "pygments_lexer": "ipython3",
   "version": "3.8.8"
  }
 },
 "nbformat": 4,
 "nbformat_minor": 5
}
